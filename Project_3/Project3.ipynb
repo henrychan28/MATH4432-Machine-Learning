{
 "cells": [
  {
   "cell_type": "markdown",
   "metadata": {},
   "source": [
    "<h1> Implementation of Down-Sampling Methods for Handling Data Imbalance </h1>\n",
    "<p> Name: Chan Wing Kin (20277087)\n",
    "<p>Data imbalance may be detrimental to the performance of machine learning algorithms. There are several ways to handle data imbalance issue:</p>\n",
    "<ul>\n",
    "    <li>Up Sampling</li>\n",
    "    <li>Down Sampling</li>\n",
    "    <li>Modify loss function</li>\n",
    "</ul>\n",
    "<p>In this project, several common down sampling techniques will be explored:</p>\n",
    "<ul>\n",
    "    <li>Random Down-sampling</li>\n",
    "    <li>Condensed Nearest Neighbor (CNN) - <i>Hart, P. (1968). The condensed nearest neighbor rule (Corresp.). IEEE transactions on information theory, 14(3), 515-516.</i></li>\n",
    "    \n",
    "    <li>Neighborhood Cleaning Rule - <i>Laurikkala, J. (2001, July). Improving identification of difficult small classes by balancing class distribution. In Conference on Artificial Intelligence in Medicine in Europe (pp. 63-66). Springer, Berlin, Heidelberg.</i></li>\n",
    "    \n",
    "    <li>TomeK Link + CNN - <i>Kubat, M., & Matwin, S. (1997, July). Addressing the curse of imbalanced training sets: one-sided selection. In ICML (Vol. 97, pp. 179-186).</i></li>\n",
    "</ul>\n",
    "<p>In the first section of the project, algorithms will be introduced, following up a study of their behavior through simple randomly generated dataset. Then, algorithms will be tested in datasets from UCI machine learning repository.</p>\n",
    "<p>Finally, the finding will be discussed to understand/gain insight from these algorithms.</p>"
   ]
  },
  {
   "cell_type": "code",
   "execution_count": 1,
   "metadata": {},
   "outputs": [],
   "source": [
    "from sklearn.decomposition import PCA\n",
    "from sklearn.feature_extraction import DictVectorizer\n",
    "from sklearn.neighbors import NearestNeighbors, KNeighborsClassifier\n",
    "from sklearn import preprocessing\n",
    "from sklearn.model_selection import train_test_split, KFold\n",
    "from sklearn.utils import shuffle\n",
    "import pandas as pd\n",
    "import numpy as np\n",
    "from scipy.stats import mode\n",
    "import random\n",
    "import seaborn as sns\n",
    "import pandas as pd\n",
    "import collections\n",
    "import matplotlib.pyplot as plt\n",
    "from sklearn.preprocessing import MinMaxScaler, Normalizer"
   ]
  },
  {
   "cell_type": "markdown",
   "metadata": {},
   "source": [
    "<h3>Helper Functions</h3>"
   ]
  },
  {
   "cell_type": "code",
   "execution_count": 2,
   "metadata": {},
   "outputs": [],
   "source": [
    "def plot_data(X,y, title = \"\"):\n",
    "    x_1 = [sample[0] for sample in X]\n",
    "    x_2 = [sample[1] for sample in X]\n",
    "    df = pd.DataFrame()\n",
    "    df['x_1']=x_1\n",
    "    df['x_2']=x_2\n",
    "    df['y']=y\n",
    "    sns.lmplot(x='x_1', y='x_2', data=df, hue='y', fit_reg = False)\n",
    "    ax = plt.gca()\n",
    "    ax.set_title(title)"
   ]
  },
  {
   "cell_type": "code",
   "execution_count": 3,
   "metadata": {},
   "outputs": [],
   "source": [
    "def shuffle_two_list(X, y):\n",
    "    temp_zip = list(zip(X,y))\n",
    "    random.shuffle(temp_zip)\n",
    "    X, y = zip(*temp_zip)\n",
    "    return X, y"
   ]
  },
  {
   "cell_type": "code",
   "execution_count": 4,
   "metadata": {},
   "outputs": [],
   "source": [
    "def get_least_frequent_items(x):\n",
    "    counter = collections.Counter(x).most_common()\n",
    "    least_occurence = counter[-1][1]\n",
    "    return [least_common[0] for least_common in counter if least_common[1]==least_occurence]"
   ]
  },
  {
   "cell_type": "code",
   "execution_count": 5,
   "metadata": {},
   "outputs": [],
   "source": [
    "def oneHotEncoding(X):\n",
    "    numerics = ['int16', 'int32', 'int64', 'float16', 'float32', 'float64']\n",
    "    df = pd.DataFrame(list(zip(*X)))\n",
    "    dv = DictVectorizer(sparse=False)\n",
    "    pd_nonnumeric = pd.get_dummies(df[df.isin(df.select_dtypes(exclude=numerics))].dropna(1))\n",
    "    pd_numeric = pd.get_dummies(df[df.isin(df.select_dtypes(include=numerics))].dropna(1))\n",
    "    pd_final = pd.concat([pd_nonnumeric, pd_numeric], axis=1, join_axes=[pd_nonnumeric.index])\n",
    "    final = pd_final.to_dict()\n",
    "    data = []\n",
    "    for key, values in final.items():\n",
    "        datum = []\n",
    "        for _, value in values.items():\n",
    "            datum.append(value)\n",
    "        data.append(datum)\n",
    "    return list(zip(*data))"
   ]
  },
  {
   "cell_type": "code",
   "execution_count": 6,
   "metadata": {},
   "outputs": [],
   "source": [
    "def cross_validation(X, y, model, sampling = None, kfold=5):\n",
    "    print(\"---------------------------\")\n",
    "    if sampling == None:\n",
    "        print(\"With no sampling method...\")\n",
    "    else:\n",
    "        print(\"Using {0}...\".format(sampling.__name__))\n",
    "    X = np.array(X)\n",
    "    y = np.array(y)\n",
    "    kf = KFold(n_splits=kfold)\n",
    "    score = 0\n",
    "    training_size = 0\n",
    "    for train_index, test_index in kf.split(X):\n",
    "        X_train, X_test = X[train_index], X[test_index]\n",
    "        y_train, y_test = y[train_index], y[test_index]\n",
    "        after_training_size = original_training_size = len(X_train)\n",
    "        if(sampling!=None):\n",
    "            X_train, y_train = sampling(X_train, y_train)\n",
    "            after_training_size = len(X_train)\n",
    "        training_size += 100*after_training_size/original_training_size\n",
    "        model.fit(X_train, y_train)\n",
    "        score += model.score(X_test, y_test)\n",
    "    print(\"Percentage retained: {0}%\".format(training_size/kfold))\n",
    "\n",
    "    return score/float(kfold)"
   ]
  },
  {
   "cell_type": "markdown",
   "metadata": {},
   "source": [
    "<h3>Random Down-sampling</h3>"
   ]
  },
  {
   "cell_type": "markdown",
   "metadata": {},
   "source": [
    "<p>Random down-sampling is the simpliest down-sampling technique commonly used in data balancing.</p>\n",
    "<p>It has demonstrated excellent performance in different tasks when the data size is large and the imbalance is not too extreme. </p>\n",
    "<p>Random down-sampling picks the least frequent(minority) class(es), then keep all the minority class while randomly picking same number of data from the majority class, achieving the same number of samples from both the majority and minority classes. </p>"
   ]
  },
  {
   "cell_type": "code",
   "execution_count": 7,
   "metadata": {},
   "outputs": [],
   "source": [
    "def random_downdsampling(X,y):\n",
    "    X = list(X)\n",
    "    y = list(y)\n",
    "    minority = set([y_i for y_i in y if y_i in get_least_frequent_items(y)])\n",
    "    max_count = 0\n",
    "    for minClass in minority:\n",
    "        if y.count(minClass) > max_count:\n",
    "            max_count = y.count(minClass)\n",
    "    X_downsampled = [X_i for idx, X_i in enumerate(X) if y[idx] in minority]\n",
    "    y_downsampled = [y_i for y_i in y if y_i in minority]\n",
    "    for classCurrent in set(y):\n",
    "        max_count_current = max_count\n",
    "        if classCurrent not in minority:\n",
    "            for(X_i, y_i) in zip(X,y):\n",
    "                if(y_i==classCurrent and max_count_current > 0):\n",
    "                    X_downsampled.append(X_i)\n",
    "                    y_downsampled.append(y_i)\n",
    "                    max_count_current -= 1\n",
    "            \n",
    "    return X_downsampled, y_downsampled"
   ]
  },
  {
   "cell_type": "markdown",
   "metadata": {},
   "source": [
    "<h3>Condensed Nearest Neighbor (CNN)</h3>"
   ]
  },
  {
   "cell_type": "markdown",
   "metadata": {},
   "source": [
    "<p> Condensed Nearest Neighbor is a algorithm originally designed for getting a consistent dataset by extracting meaningful samples from the original data. Later it was being modified for data balancing and the algorithm is the follow:</p>\n",
    "<ol>\n",
    "    <li>Collect all the minority examples into \"Store\".</li>\n",
    "    <li>Classify other examples with \"Store\" by 1NN.</li>\n",
    "    <li>If classify correctly, ignore the example. If classify incorrectly, add the example into \"Store\" to classify other examples.</li>\n",
    "    <li>Return \"Store\" as the selected examples.</li>\n",
    "</ol>\n",
    "    \n",
    "<p><b>Reference:</b></p>\n",
    "<p>Hart, P. (1968). The condensed nearest neighbor rule (Corresp.). IEEE transactions on information theory, 14(3), 515-516.</p>"
   ]
  },
  {
   "cell_type": "code",
   "execution_count": 8,
   "metadata": {},
   "outputs": [],
   "source": [
    "#Support multiple minorClass - take minorClass as a list input \n",
    "def condensed_NN_balancing(X, y, minorClass = None, random_state = 0):\n",
    "    X,y = shuffle_two_list(X,y)\n",
    "    if minorClass == None:\n",
    "        least_frequent_items = get_least_frequent_items(y)\n",
    "        #print(\"Finding least frequent items...\")\n",
    "        #print(\"Add it(them) to the minorClass...\")\n",
    "        minorClass = least_frequent_items\n",
    "        \n",
    "    index_minorClass = [index for index, y_i in enumerate(y) if y_i in minorClass]\n",
    "    \n",
    "    X_tuple, y_tuple = zip(*[(X[idx], y[idx]) for idx in index_minorClass])\n",
    "    X_store = list(X_tuple)\n",
    "    y_store = list(y_tuple)\n",
    "    #plot_data(X_store, y_store)\n",
    "    KN_clf = KNeighborsClassifier(n_neighbors=1)\n",
    "    KN_clf.fit(X_store, y_store)\n",
    "    for X_i, y_i in zip(X,y):\n",
    "        if(y_i not in minorClass and KN_clf.predict([X_i])!=y_i):\n",
    "            X_store.append(X_i)\n",
    "            y_store.append(y_i)\n",
    "            KN_clf.fit(X_store, y_store)\n",
    "    \n",
    "    return X_store, y_store"
   ]
  },
  {
   "cell_type": "markdown",
   "metadata": {},
   "source": [
    "<h3> CNN + Tomelink</h3>"
   ]
  },
  {
   "cell_type": "markdown",
   "metadata": {},
   "source": [
    "<p> CNN algorithm described above may help to purify the examples. However, some examples in the decision boundary maybe noisey, leading to undesirable performance of NN classifier near the boundary.</p>\n",
    "<p>Tomelink is a measure captures whether a sample is noisey. To determine whether a sample is participated in Tomelink or not, one may reference to the paper mentioned below.</p>\n",
    "<p>Here is the algorithm:</p>\n",
    "<ol>\n",
    "    <li>Let S be the original training set.</li>\n",
    "    <li>Initially, C contains all positive examples from S and one randomly selected negative example.</li>\n",
    "    <li>Classify S with the 1-NN rule using the examples in C, and compare the assigned concept labels with the original ones. Move all misclassified examples into C that is now consistent with S while being smaller.</li>\n",
    "    <li>Remove from C all negative examples participating in Tomek links. This removes those negative examples that are believed borderline and/or noisy. All positive examples are retained. The resulting set is referred to as T.</li>\n",
    "</ol>\n",
    "\n",
    "\n",
    "<p><b>Reference:</b></p>\n",
    "<p>Kubat, M., & Matwin, S. (1997, July). Addressing the curse of imbalanced training sets: one-sided selection. In ICML (Vol. 97, pp. 179-186).</p>"
   ]
  },
  {
   "cell_type": "code",
   "execution_count": 9,
   "metadata": {},
   "outputs": [],
   "source": [
    "def TomekLinkSelection(X, y, metric='l2', random_state = 0):\n",
    "    minority = [y_i for y_i in set(y) if y_i in get_least_frequent_items(y)]\n",
    "\n",
    "    sample_index = []\n",
    "    positive_index = []\n",
    "    for index, y_value in enumerate(y):\n",
    "        if(y_value in minority):\n",
    "            positive_index.append(index)\n",
    "    sample_index = positive_index\n",
    "    while True:\n",
    "        random_negative_index = random.randint(0, len(y)-1)\n",
    "        if(random_negative_index not in sample_index):\n",
    "            sample_index.append(random_negative_index)\n",
    "            break\n",
    "   \n",
    "    training_samples_X = [X[index] for index in sample_index]\n",
    "    training_samples_y = [y[index] for index in sample_index]\n",
    "    #plot_data(training_samples_X,training_samples_y, title=\"Positive Example w/ One Negative Example\")\n",
    "    \n",
    "    \n",
    "    \n",
    "    misclassified_index = []\n",
    "    KN_clf = KNeighborsClassifier(n_neighbors=1)\n",
    "    KN_clf.fit(training_samples_X,  training_samples_y)\n",
    "    KN_clf_pred =  KN_clf.predict(X)\n",
    "    for index, result in enumerate(KN_clf_pred):\n",
    "        if(y[index]!=result):\n",
    "            misclassified_index.append(index)\n",
    "\n",
    "    C = sample_index + misclassified_index\n",
    "    \n",
    "    C_X = [X[index] for index in C]\n",
    "    C_y = [y[index] for index in C]\n",
    "    #plot_data(C_X,C_y, title=\"Previous Graph with Misclassified Data Points\")\n",
    "    \n",
    "    \n",
    "    kneighbor = NearestNeighbors(n_neighbors=2)\n",
    "    kneighbor.fit(X)\n",
    "    kneighbors = [neighbor[1] for neighbor in kneighbor.kneighbors(X)[1]]\n",
    "    \n",
    "    \n",
    "    tomek_link_index = []\n",
    "    for index, neighbor_index in enumerate(kneighbors):\n",
    "        if(kneighbors[neighbor_index] == index and y[neighbor_index] != y[index]):\n",
    "            tomek_link_index.append(index)\n",
    "    #print(tomek_link_index)\n",
    "    X_T = [X[index] for index in C if (index in positive_index or index not in tomek_link_index)]\n",
    "    y_T = [y[index] for index in C if (index in positive_index or index not in tomek_link_index)]\n",
    "\n",
    "    return X_T, y_T"
   ]
  },
  {
   "cell_type": "markdown",
   "metadata": {},
   "source": [
    "<h3>Neighborhood Cleaning Rule (NCR)</h3>"
   ]
  },
  {
   "cell_type": "markdown",
   "metadata": {},
   "source": [
    "<p>This method is devised after the appearance of CNN and CNN + Tomelink.</p>\n",
    "<p>Instead of conducting data reduction (like CNN) and data cleaning (like Tomelink), NCR focus on doing data cleaning. It is believed that the accuracy of model depends on the noiseness of data instead of number of data.</p>\n",
    "<p>Here is the algorithm of NCR:</p>\n",
    "<ol>\n",
    "    <li>Split the data into class of interest C and the rest of data O.</li>\n",
    "    <li>Identify noisy data A_1 in O with edited nearest neighbor rule.</li>\n",
    "    <li>For each class C_i in O, if (for x in C in 3NN of misclassified y in C)\n",
    "        and (|C_i| >= 0.5 |C|) then A_2 = {x} or A_2</li>\n",
    "    <li>Reduced data S = T - (A_1 or A_2)</li>\n",
    "</ol>\n",
    "\n",
    "<p><b>Reference:</b></p>\n",
    "<p>Laurikkala, J. (2001, July). Improving identification of difficult small classes by balancing class distribution. In Conference on Artificial Intelligence in Medicine in Europe (pp. 63-66). Springer, Berlin, Heidelberg.</p>"
   ]
  },
  {
   "cell_type": "code",
   "execution_count": 10,
   "metadata": {},
   "outputs": [],
   "source": [
    "def NeighborCleaningRule(X, y, minorClass=None, metric='l2', random_state = 0):\n",
    "    X = list(X)\n",
    "    y = list(y)\n",
    "    if(minorClass==None):\n",
    "        least_frequent_items = get_least_frequent_items(y)\n",
    "        if(len(least_frequent_items)==1):\n",
    "            #print(\"Found a least frequent item...\")\n",
    "            #print(\"Setting it as minority class...\")\n",
    "            minorClass = least_frequent_items[0]\n",
    "        else:\n",
    "            #print(\"Found multiple least frequent items...\")a\n",
    "            #print(\"Randomly pick one as the minority class...\")\n",
    "            minorClass = least_frequent_items[random.randint(0, len(least_frequent_items)-1)]\n",
    "    index_minorClass = [index for index, x in enumerate(X) if y[index] == minorClass]\n",
    "    \n",
    "    #Get class values with |Minor Class| * 0.5 > |Class_i|\n",
    "    class_value = set(y)\n",
    "    weak_class = []\n",
    "    minorClass_count = y.count(minorClass)\n",
    "    for value in class_value:\n",
    "        if y.count(value) < 0.5 * minorClass_count:\n",
    "            weak_class.append(value)\n",
    "\n",
    "    misclassified_index = []\n",
    "    KN_clf = KNeighborsClassifier(n_neighbors=3)\n",
    "    KN_clf.fit(X, y)\n",
    "    KN_clf_pred =  KN_clf.predict(X)\n",
    "    for index, result in enumerate(KN_clf_pred):\n",
    "        if(y[index]!=result):\n",
    "            misclassified_index.append(index)\n",
    "    A_1 = [index for index, X_item in enumerate(X) \n",
    "           if (y[index]!=KN_clf_pred[index] and y[index] != minorClass)]\n",
    "    A_2 = []\n",
    "    for index in index_minorClass:\n",
    "        if(KN_clf_pred[index]!=y[index]):\n",
    "            nearest_neighbor_index = list(KN_clf.kneighbors([X[index]], \n",
    "                                          n_neighbors=4, \n",
    "                                          return_distance=False)[0])\n",
    "            try:\n",
    "                nearest_neighbor_index.remove(index)\n",
    "            except:\n",
    "                pass\n",
    "            A_2 += [i for i in nearest_neighbor_index if (y[i] not in weak_class and y[i]!=minorClass)]\n",
    "    S_index = set(range(len(X))).difference(set(A_1 + A_2))\n",
    "    \n",
    "    X_T = [X[index] for index in S_index]\n",
    "    y_T = [y[index] for index in S_index]\n",
    "    return X_T, y_T"
   ]
  },
  {
   "cell_type": "markdown",
   "metadata": {},
   "source": [
    "<h3>Artificially Generated Data</h3>"
   ]
  },
  {
   "cell_type": "markdown",
   "metadata": {},
   "source": [
    "<p>To visualize the selection rule, two sets of normally distributed data is generated and assign into different classes.</p>\n",
    "<p>The visualization enables us to understand how these selection rules select a subset of samples intuitively.</p>"
   ]
  },
  {
   "cell_type": "code",
   "execution_count": 11,
   "metadata": {},
   "outputs": [],
   "source": [
    "number_of_entry = 160\n",
    "X = [[random.gauss(2,0.1),random.gauss(2,0.4)] for i in range(int(2*number_of_entry/8)) ]\n",
    "X += [[random.gauss(2,0.1),random.gauss(3,0.4)] for i in range(int(6*number_of_entry/8))]\n",
    "y = [0 if i >=number_of_entry/4 else 1 for i in range(number_of_entry)]"
   ]
  },
  {
   "cell_type": "code",
   "execution_count": 12,
   "metadata": {
    "scrolled": false
   },
   "outputs": [
    {
     "data": {
      "image/png": "[encoded data removed]",
      "text/plain": [
       "<matplotlib.figure.Figure at 0x26d2d1ed048>"
      ]
     },
     "metadata": {},
     "output_type": "display_data"
    },
    {
     "data": {
      "image/png": "[encoded data removed]",
      "text/plain": [
       "<matplotlib.figure.Figure at 0x26d3b3a3278>"
      ]
     },
     "metadata": {},
     "output_type": "display_data"
    },
    {
     "data": {
      "image/png": "[encoded data removed]",
      "text/plain": [
       "<matplotlib.figure.Figure at 0x26d3b431c50>"
      ]
     },
     "metadata": {},
     "output_type": "display_data"
    },
    {
     "data": {
      "image/png": "[encoded data removed]",
      "text/plain": [
       "<matplotlib.figure.Figure at 0x26d3b482748>"
      ]
     },
     "metadata": {},
     "output_type": "display_data"
    },
    {
     "data": {
      "image/png": "[encoded data removed]",
      "text/plain": [
       "<matplotlib.figure.Figure at 0x26d3b4f2c88>"
      ]
     },
     "metadata": {},
     "output_type": "display_data"
    }
   ],
   "source": [
    "plot_data(X,y, \"Two normal distributed group\")\n",
    "X_ran, y_ran = random_downdsampling(X,y)\n",
    "plot_data(X_ran, y_ran, \"Random Down-Sampling\")\n",
    "X_cnn, y_cnn = condensed_NN_balancing(X,y)\n",
    "plot_data(X_cnn, y_cnn, \"CNN\")\n",
    "X_tom, y_tom = TomekLinkSelection(X,y)\n",
    "plot_data(X_tom, y_tom, \"CNN + Tomelink\")\n",
    "X_ncr, y_ncr = NeighborCleaningRule(X,y)\n",
    "plot_data(X_ncr, y_ncr, \"NCR\")"
   ]
  },
  {
   "cell_type": "markdown",
   "metadata": {},
   "source": [
    "<p> From the above result, it can be clearly seen that:</p>\n",
    "<ol>\n",
    "    <li>Random down-sampling removed majority samples randomly and does show any specific pattern.</li>\n",
    "    <li>CNN clear out the majority group except those near the boundary, and it does not remove noisy data in the decision boundary</li>\n",
    "    <li>CNN + Tomelink removes not only examples from majority class which are away from the decision boundary, but also remove noisy data near the decision boundary</li>\n",
    "    <li>NCR clears mainly noisy data near the decision boundary</li>\n",
    "</ol>\n",
    "<p>The visualization aligns with the understanding of algorithms stated above.</p>"
   ]
  },
  {
   "cell_type": "markdown",
   "metadata": {},
   "source": [
    "<h3>Testing on UCI Machine Learning Repository Data</h3>"
   ]
  },
  {
   "cell_type": "markdown",
   "metadata": {},
   "source": [
    "<p> UCI Machine Learning Repository provides different data for testing out machine learning algorithms. In here, few classification tasks with imbalance data are selected to test the data selection algorithms.</p>\n",
    "<p>Here are the selected dataset from UCI:</p>\n",
    "<ul>\n",
    "    <li> Statlog (German Credit Data) Data Set - Class % (30.00%, 70.00%)</li>\n",
    "    <li> Nursery Data Set - Class % (33.33%, 66.66%)</li>\n",
    "    <li> SPECT Heart Data Set - Class % (20.60%, 79.40%)</li>\n",
    "</ul>\n",
    "<p> The following preprocessing are done to improve the accuracy and consistency of data:</p>\n",
    "<ul>\n",
    "    <li>One hot encoding for categorical classes with no intrinsic ordering</li>\n",
    "    <li>Label encoding for categorical classes with intrinsic ordering</li>\n",
    "    <li>Max-Min normalization for all features</li>\n",
    "</ul>"
   ]
  },
  {
   "cell_type": "code",
   "execution_count": 13,
   "metadata": {},
   "outputs": [],
   "source": [
    "def testClassifier(X, y, classifier):\n",
    "    print(\"Accuracy: \", cross_validation(X, y, knn_clf, kfold=5))\n",
    "    print(\"Accuracy: \", cross_validation(X, y, knn_clf, condensed_NN_balancing, kfold=5))\n",
    "    print(\"Accuracy: \", cross_validation(X, y, knn_clf, TomekLinkSelection, kfold=5))\n",
    "    print(\"Accuracy: \", cross_validation(X, y, knn_clf, NeighborCleaningRule, kfold=5))\n",
    "    print(\"Accuracy: \", cross_validation(X, y, knn_clf, random_downdsampling, kfold=5))"
   ]
  },
  {
   "cell_type": "markdown",
   "metadata": {},
   "source": [
    "<h3>Statlog (German Credit Data) Data Set - Class % (30.00%, 70.00%)</h3>"
   ]
  },
  {
   "cell_type": "code",
   "execution_count": 14,
   "metadata": {},
   "outputs": [],
   "source": [
    "german_data = []\n",
    "with open('./dataset/german.data.txt', 'r') as f:\n",
    "    data = f.readlines()\n",
    "    for datum in data:\n",
    "        datum = datum.strip()\n",
    "        german_data.append(datum.split(' '))\n",
    "    german_data = list(zip(*german_data))\n",
    "for index, column in enumerate(german_data):\n",
    "    if column[0].isdigit():\n",
    "        german_data[index] = [int(value) for value in column]"
   ]
  },
  {
   "cell_type": "code",
   "execution_count": 15,
   "metadata": {},
   "outputs": [],
   "source": [
    "(german_data_X, german_data_y) = (german_data[:-1], german_data[-1])\n",
    "german_data_X = oneHotEncoding(german_data_X)\n",
    "scaler = MinMaxScaler()\n",
    "german_data_X_minmax = scaler.fit_transform(german_data_X)"
   ]
  },
  {
   "cell_type": "code",
   "execution_count": 16,
   "metadata": {
    "scrolled": false
   },
   "outputs": [
    {
     "name": "stdout",
     "output_type": "stream",
     "text": [
      "Statlog (German Credit Data) Data Set - Class % (30.00%, 70.00%)\n",
      "---------------------------\n",
      "With no sampling method...\n",
      "Percentage retained: 100.0%\n",
      "Accuracy:  0.726\n",
      "---------------------------\n",
      "Using condensed_NN_balancing...\n",
      "Percentage retained: 63.375%\n",
      "Accuracy:  0.6970000000000001\n",
      "---------------------------\n",
      "Using TomekLinkSelection...\n",
      "Percentage retained: 94.75%\n",
      "Accuracy:  0.7300000000000001\n",
      "---------------------------\n",
      "Using NeighborCleaningRule...\n",
      "Percentage retained: 74.675%\n",
      "Accuracy:  0.705\n",
      "---------------------------\n",
      "Using random_downdsampling...\n",
      "Percentage retained: 60.0%\n",
      "Accuracy:  0.695\n"
     ]
    }
   ],
   "source": [
    "print(\"Statlog (German Credit Data) Data Set - Class % (30.00%, 70.00%)\")\n",
    "X = german_data_X_minmax\n",
    "y = german_data_y\n",
    "knn_clf = KNeighborsClassifier(n_neighbors=20)\n",
    "testClassifier(X, y, knn_clf)"
   ]
  },
  {
   "cell_type": "markdown",
   "metadata": {},
   "source": [
    "<h3>Analysis - German Credit Data</h3>"
   ]
  },
  {
   "cell_type": "markdown",
   "metadata": {},
   "source": [
    "<p>The performance of CNN, NCR and random down sampling are very similar. It is interesting to note that for CNN and random downsampling, they retains around 60% of the original data while only sacrificing only 2% of accuracy.</p>\n",
    "<p>The most interesting result if from TomekLinkSelection (Tomeklink + CNN). It improves the result by 0.5% while reducing the number of examples by 5%. It may be related to removal of noisy of boundary by Tomeklink for this dataset.</p>"
   ]
  },
  {
   "cell_type": "markdown",
   "metadata": {},
   "source": [
    "<h3>Nursery Data Set - Class % (33.33%, 66.66%)</h3>"
   ]
  },
  {
   "cell_type": "code",
   "execution_count": 17,
   "metadata": {},
   "outputs": [],
   "source": [
    "nursery_data = []\n",
    "with open('./dataset/nursery.data.txt', 'r') as f:\n",
    "    data = f.readlines()\n",
    "    for datum in data:\n",
    "        datum = datum.strip()\n",
    "        datum = datum.split(',')\n",
    "        if(len(datum)==9):\n",
    "            nursery_data.append(datum)\n",
    "    nursery_data = list(zip(*nursery_data))\n",
    "for index, column in enumerate(nursery_data):\n",
    "    if column[0].isdigit() and index!=3:\n",
    "        nursery_data[index] = [int(value) for value in column]\n",
    "    elif index == 3:\n",
    "        nursery_data[index]=[int(value) if value.isdigit() else 4 for value in column]\n"
   ]
  },
  {
   "cell_type": "code",
   "execution_count": 18,
   "metadata": {},
   "outputs": [],
   "source": [
    "nursery_data_X = nursery_data[:-1]\n",
    "nursery_data_y = nursery_data[-1]"
   ]
  },
  {
   "cell_type": "code",
   "execution_count": 19,
   "metadata": {},
   "outputs": [],
   "source": [
    "le_0 = preprocessing.LabelEncoder()\n",
    "le_0.fit([\"usual\", \"pretentious\", \"great_pret\"])\n",
    "nursery_data_X[0] = list(le_0.transform(nursery_data_X[0]))\n",
    "\n",
    "le_1 = preprocessing.LabelEncoder()\n",
    "le_1.fit(['proper', 'less_proper', 'improper', 'critical', 'very_crit'])\n",
    "nursery_data_X[1] = list(le_1.transform(nursery_data_X[1]))\n",
    "\n",
    "\n",
    "le_2 = preprocessing.LabelEncoder()\n",
    "le_2.fit(['complete', 'completed', 'incomplete', 'foster'])\n",
    "nursery_data_X[2] = list(le_2.transform(nursery_data_X[2]))\n",
    "\n",
    "le_4 = preprocessing.LabelEncoder()\n",
    "le_4.fit(['convenient', 'less_conv', 'critical'])\n",
    "nursery_data_X[4] = list(le_4.transform(nursery_data_X[4]))\n",
    "\n",
    "le_5 = preprocessing.LabelEncoder()\n",
    "le_5.fit(['convenient', 'inconv'])\n",
    "nursery_data_X[5] = list(le_5.transform(nursery_data_X[5]))\n",
    "\n",
    "le_6 = preprocessing.LabelEncoder()\n",
    "le_6.fit(['nonprob', 'slightly_prob', 'problematic'])\n",
    "nursery_data_X[6] = list(le_6.transform(nursery_data_X[6]))\n",
    "\n",
    "le_7 = preprocessing.LabelEncoder()\n",
    "le_7.fit(['recommended', 'priority', 'not_recom'])\n",
    "nursery_data_X[7] = list(le_7.transform(nursery_data_X[7]))\n",
    "\n",
    "nursery_data_y = ['recommend' if y_i !='not_recom' else 'not_recom' for y_i in nursery_data_y]"
   ]
  },
  {
   "cell_type": "code",
   "execution_count": 20,
   "metadata": {},
   "outputs": [],
   "source": [
    "nursery_data_X = list(zip(*nursery_data_X))"
   ]
  },
  {
   "cell_type": "code",
   "execution_count": 21,
   "metadata": {},
   "outputs": [
    {
     "name": "stdout",
     "output_type": "stream",
     "text": [
      "Nursery Data Set - Class % (33.33%, 66.66%)\n",
      "---------------------------\n",
      "With no sampling method...\n",
      "Percentage retained: 100.0%\n",
      "Accuracy:  1.0\n",
      "---------------------------\n",
      "Using condensed_NN_balancing...\n",
      "Percentage retained: 38.89660493827161%\n",
      "Accuracy:  0.9720679012345679\n",
      "---------------------------\n",
      "Using TomekLinkSelection...\n",
      "Percentage retained: 97.89351851851852%\n",
      "Accuracy:  1.0\n",
      "---------------------------\n",
      "Using NeighborCleaningRule...\n",
      "Percentage retained: 100.0%\n",
      "Accuracy:  1.0\n",
      "---------------------------\n",
      "Using random_downdsampling...\n",
      "Percentage retained: 66.66666666666667%\n",
      "Accuracy:  0.9135030864197532\n"
     ]
    }
   ],
   "source": [
    "scaler = MinMaxScaler()\n",
    "nursery_data_X_minmax = scaler.fit_transform(nursery_data_X)\n",
    "X = nursery_data_X_minmax\n",
    "y = nursery_data_y\n",
    "knn_clf = KNeighborsClassifier(n_neighbors=5)\n",
    "print(\"Nursery Data Set - Class % (33.33%, 66.66%)\")\n",
    "testClassifier(X, y, knn_clf)"
   ]
  },
  {
   "cell_type": "markdown",
   "metadata": {},
   "source": [
    "<h3>Analysis - Nursery Data Set</h3>"
   ]
  },
  {
   "cell_type": "markdown",
   "metadata": {},
   "source": [
    "<p>Performance of CNN in this example is outstanding - it reduced the sample by 61.15% while retaining an accuracy of 97.1%. It indicates that the majority class has a lot of redundunt examples and examples have a clear decision boundary. </p>\n",
    "<p>For NCR, it has nothing interesting since no examples are removed. When considering how the algorithm works, it may be inferred that the dataset's decision boundary are well separated in this dataset.</p>\n",
    "<p>The inference above is again supported by the TomekLinkSelection, where only small among of data is removed, which mostly are noisy examples on the decision boundary.</p>\n",
    "<p>Finally, for random down-sampling, it retains 66.7% of the data but sacrificed 8.6% of accuracy, which is not performing well when comparing with other methods. As been discussed above, the decision boundary itself may be well-separated, random sampling may lead to a boundary shift, bringing detrimental effects to the prediction accuracy.</p>"
   ]
  },
  {
   "cell_type": "markdown",
   "metadata": {},
   "source": [
    "<h3>SPECT Heart Data Set - Class % (20.60%, 79.40%)</h3>"
   ]
  },
  {
   "cell_type": "code",
   "execution_count": 22,
   "metadata": {},
   "outputs": [],
   "source": [
    "SPECT_data = []\n",
    "for file_name in ['test', 'train']:\n",
    "    with open('./dataset/SPECT.{0}.txt'.format(file_name), 'r') as f:\n",
    "        data = f.readlines()\n",
    "        for datum in data:\n",
    "            datum = datum.strip()\n",
    "            datum = datum.split(',')\n",
    "            SPECT_data.append(datum)\n",
    "SPECT_data = list(zip(*SPECT_data))\n",
    "\n",
    "SPECT_data_y = SPECT_data[0]\n",
    "SPECT_data_X = list(zip(*SPECT_data[1:]))\n",
    "SPECT_data_X, SPECT_data_y = shuffle(SPECT_data_X, SPECT_data_y)"
   ]
  },
  {
   "cell_type": "code",
   "execution_count": 23,
   "metadata": {},
   "outputs": [
    {
     "name": "stdout",
     "output_type": "stream",
     "text": [
      "SPECT Heart Data Set - Class % (20.60%, 79.40%)\n",
      "---------------------------\n",
      "With no sampling method...\n",
      "Percentage retained: 100.0%\n",
      "Accuracy:  0.8049615653389239\n",
      "---------------------------\n",
      "Using condensed_NN_balancing...\n",
      "Percentage retained: 54.494756702207006%\n",
      "Accuracy:  0.7562543675751222\n",
      "---------------------------\n",
      "Using TomekLinkSelection...\n",
      "Percentage retained: 93.73085867228292%\n",
      "Accuracy:  0.7561844863731657\n",
      "---------------------------\n",
      "Using NeighborCleaningRule...\n",
      "Percentage retained: 82.6747400289588%\n",
      "Accuracy:  0.7526205450733752\n",
      "---------------------------\n",
      "Using random_downdsampling...\n",
      "Percentage retained: 41.196086174367075%\n",
      "Accuracy:  0.6250873515024459\n"
     ]
    }
   ],
   "source": [
    "scaler = MinMaxScaler()\n",
    "SPECT_data_X_minmax = scaler.fit_transform(SPECT_data_X)\n",
    "X = SPECT_data_X\n",
    "y = SPECT_data_y\n",
    "knn_clf = KNeighborsClassifier(n_neighbors=5)\n",
    "print(\"SPECT Heart Data Set - Class % (20.60%, 79.40%)\")\n",
    "testClassifier(X, y, knn_clf)\n"
   ]
  },
  {
   "cell_type": "markdown",
   "metadata": {},
   "source": [
    "<h3>Analysis of Results - SPECT Heart Data Set </h3>"
   ]
  },
  {
   "cell_type": "markdown",
   "metadata": {},
   "source": [
    "<p>For all methods except random down sampling, the performance are similar. There may be few things can be inferred from the result.</p>\n",
    "<p> First, the CNN, NCR and TomekLinkSelection displays no large differences in prediction accuracy. It might indicates that both certain important examples are lying near the decision boundary and outside the boundary.</p>\n",
    "<p> It is interesting to note that CNN removed 45% of the examples while reducing 5% accuracy. It can be inferred that most of the example outside the decision boundary is not helpful in classification.</p>\n",
    "<p>For random down sampling method, it's accuracy are significantly lower than other down sampling methods.</p>"
   ]
  },
  {
   "cell_type": "markdown",
   "metadata": {},
   "source": [
    "<h3>Conclusion</h3>"
   ]
  },
  {
   "cell_type": "markdown",
   "metadata": {},
   "source": [
    "<p>Throughout the exploration, there are couple interesting findings:</p>\n",
    "<ol>\n",
    "    <li>Random down sampling may serves as a base line for testing other down sampling algorithms.</li>\n",
    "    <li>Different down sampling techniques may be helpful in understanding the data in high dimension (e.g. understanding the distribution of data near the decision boundary)</li>\n",
    "    <li>Selection of down sampling algorithms can be based on knowledge of distribution of data</li>\n",
    "</ol>\n",
    "<p>All these findings may serve as a guide for exploration of data and data cleaning. As in this project, only KNN algorithm is used to test the sampling algorithms. Further research can be conducted to understand the behavior of algorithms under different machine learning models, hopefully gaining more insight and improving performance of machine learning models.</p>"
   ]
  }
 ],
 "metadata": {
  "kernelspec": {
   "display_name": "Python [conda env:py36]",
   "language": "python",
   "name": "conda-env-py36-py"
  },
  "language_info": {
   "codemirror_mode": {
    "name": "ipython",
    "version": 3
   },
   "file_extension": ".py",
   "mimetype": "text/x-python",
   "name": "python",
   "nbconvert_exporter": "python",
   "pygments_lexer": "ipython3",
   "version": "3.6.4"
  }
 },
 "nbformat": 4,
 "nbformat_minor": 2
}
